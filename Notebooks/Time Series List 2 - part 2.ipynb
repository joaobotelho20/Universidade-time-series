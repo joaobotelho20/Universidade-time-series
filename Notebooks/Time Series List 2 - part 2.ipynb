{
 "cells": [
  {
   "cell_type": "markdown",
   "metadata": {},
   "source": [
    "4) For the real instances, WELL-01.csv and WELL-02.csv, compute for each variable (P-PDG, P-TPT, T-TPT) of each class (0 and 2) the Binary Pattern (BP). For this, for each instance, you will split the multivariate time series into two parts: the data labeled as class 0 and the data labeled as class 2. \n",
    "After, compute for each variable of each class the BP with n = 5 (each histogram will have 16 bins). Show the normalized histogram of each variable of each class of each instance (for each instance will have 3 histograms for each class (a total of 12 histograms). Use the subplot function to become the visualization easier. Analyze the obtained histograms and check if it is possible to distinguish the classes by the histograms and if the behavior of the classes is consistent in the two instances. Comment on your observations."
   ]
  },
  {
   "cell_type": "code",
   "execution_count": 31,
   "metadata": {},
   "outputs": [
    {
     "name": "stdout",
     "output_type": "stream",
     "text": [
      "Classe 0 > Well-1: (3674, 5), Well-2: (3594, 5)\n",
      "Classe 2 > Well-1: (1926, 5), Well-2: (1906, 5)\n"
     ]
    }
   ],
   "source": [
    "import numpy as np\n",
    "import pandas as pd \n",
    "import matplotlib.pyplot as plt\n",
    "\n",
    "# Definição das colunas de interesse\n",
    "columns = ['Timestamp', 'P-PDG', 'P-TPT', 'T-TPT', 'class']\n",
    "\n",
    "well_1 = pd.read_csv(r'C:\\Users\\USER\\Desktop\\GitHub\\Universidade-time-series\\Dataset\\WELL-01.csv', delimiter=',', usecols=columns)\n",
    "well_2 = pd.read_csv(r'C:\\Users\\USER\\Desktop\\GitHub\\Universidade-time-series\\Dataset\\WELL-02.csv', delimiter=',', usecols=columns)\n",
    "\n",
    "well_1 = [well_1[well_1['class']==0], well_1[well_1['class']==2]]\n",
    "well_2 = [well_2[well_2['class']==0], well_2[well_2['class']==2]]\n",
    "\n",
    "for i, (c0, c2) in enumerate(zip(well_1, well_2)):\n",
    "    print(f\"Classe {i*2} > Well-1: {c0.shape}, Well-2: {c2.shape}\")\n",
    "\n",
    "def bin_pattern(bloco, array):\n",
    "    \"\"\"\n",
    "    Calcula o padrão binário de um array com base em um bloco de tamanho n.\n",
    "    \n",
    "    Parâmetros:\n",
    "    - bloco (int): Tamanho do bloco (deve ser um inteiro ímpar maior que 1).\n",
    "    - series (array-like): Série de valores numéricos.\n",
    "\n",
    "    Retorno:\n",
    "    - np.array: Array de padrões binários.\n",
    "    \n",
    "    Lança:\n",
    "    - ValueError: Se `n` não for um número ímpar maior que 1.\n",
    "    \"\"\"\n",
    "    if not isinstance(bloco, int) or bloco <= 1 or bloco % 2 == 0:\n",
    "        raise ValueError(\"O tamanho do bloco deve ser um inteiro ímpar maior que 1.\")\n",
    "    \n",
    "    array = np.asarray(array)  # Garante que seja um array NumPy\n",
    "    gap =bloco // 2  # Define a quantidade de deslocamento baseado no tamanho do bloco\n",
    "    pattern_list = np.zeros(len(array) - (2 * gap), dtype=int)\n",
    "    vizinhos = list(range(1, gap + 1)) + list(range(-gap, 0))\n",
    "\n",
    "    for i in range(gap, len(array) - gap):\n",
    "        pattern = 0\n",
    "        for bit,vizinho in enumerate(vizinhos):  # Atribui pesos binários\n",
    "            if array[i + vizinho] >= array[i]:\n",
    "                pattern += 2 ** bit\n",
    "        pattern_list[i - gap] = pattern  # Salva o padrão na posição correspondente\n",
    "\n",
    "    return pattern_list"
   ]
  },
  {
   "cell_type": "code",
   "execution_count": null,
   "metadata": {},
   "outputs": [
    {
     "name": "stdout",
     "output_type": "stream",
     "text": [
      "1535 668\n",
      "1539 698\n",
      "1943 1848\n",
      "1770 1861\n",
      "1176 1867\n",
      "1316 1895\n"
     ]
    }
   ],
   "source": [
    "variables = ['P-PDG', 'P-TPT', 'T-TPT']\n",
    "files = [well_1, well_2]\n",
    "\n",
    "for variable in variables:\n",
    "    for df in files:\n",
    "        BP0 = bin_pattern(5, df[0][variable])\n",
    "        BP2 = bin_pattern(5, df[1][variable])\n",
    "        # BPmax = max(max(BP0), max(BP2))\n",
    "\n",
    "        # fig, ax = plt.subplots(2, 1, figsize=(10, 6), sharex=True)\n",
    "        # fig.suptitle(f'Bin Pattern - {variable}')\n",
    "        # ax[0].hist(BP0m, color='blue', label='Classe 0')\n",
    "        # ax[1].hist(BP2m, color='red', label='Classe 2')\n",
    "        # plt.show()\n",
    "\n",
    "        # Definindo os bins\n",
    "        bins = np.histogram_bin_edges(np.concatenate([BP0, BP2]), bins=16)\n",
    "\n",
    "        # Criando histogramas lado a lado\n",
    "        plt.figure(figsize=(8, 6))\n",
    "        plt.hist(BP0, bins=bins, color='blue', alpha=0.5, label='Série 1', width=0.4, align='left')\n",
    "        plt.hist(BP2, bins=bins, color='red', alpha=0.5, label='Série 2', width=0.4, align='right')\n",
    "\n",
    "        # Adicionando legendas e título\n",
    "        plt.xlabel('Valor')\n",
    "        plt.ylabel('Frequência')\n",
    "        plt.title('Histogramas Lado a Lado')\n",
    "        plt.legend()\n",
    "\n",
    "        # Exibir o gráfico\n",
    "        plt.show()\n",
    "        "
   ]
  }
 ],
 "metadata": {
  "kernelspec": {
   "display_name": "Python 3",
   "language": "python",
   "name": "python3"
  },
  "language_info": {
   "codemirror_mode": {
    "name": "ipython",
    "version": 3
   },
   "file_extension": ".py",
   "mimetype": "text/x-python",
   "name": "python",
   "nbconvert_exporter": "python",
   "pygments_lexer": "ipython3",
   "version": "3.12.4"
  }
 },
 "nbformat": 4,
 "nbformat_minor": 2
}
