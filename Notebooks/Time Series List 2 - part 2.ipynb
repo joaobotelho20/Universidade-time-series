{
 "cells": [
  {
   "cell_type": "markdown",
   "metadata": {},
   "source": [
    "4) For the real instances, WELL-01.csv and WELL-02.csv, compute for each variable (P-PDG, P-TPT, T-TPT) of each class (0 and 2) the Binary Pattern (BP). For this, for each instance, you will split the multivariate time series into two parts: the data labeled as class 0 and the data labeled as class 2. After, compute for each variable of each class the BP with n = 5 (each histogram will have 16 bins). Show the normalized histogram of each variable of each class of each instance (for each instance will have 3 histograms for each class (a total of 12 histograms). Use the subplot function to become the visualization easier. Analyze the obtained histograms and check if it is possible to distinguish the classes by the histograms and if the behavior of the classes is consistent in the two instances. Comment on your observations."
   ]
  },
  {
   "cell_type": "code",
   "execution_count": null,
   "metadata": {},
   "outputs": [],
   "source": [
    "import numpy as np\n",
    "import pandas as pd \n",
    "import matplotlib.pyplot as plt\n",
    "\n",
    "# Definição das colunas de interesse\n",
    "columns = ['Timestamp', 'P-PDG', 'P-TPT', 'T-TPT', 'class']\n",
    "\n",
    "well_1 = pd.read_csv('WELL-01.csv', delimiter=',', usecols=columns)\n",
    "well_2 = pd.read_csv('WELL-02.csv', delimiter=',', usecols=columns)\n",
    "\n",
    "# Separação dos dados de acordo com índices fornecidos\n",
    "split_idx_w1 = 3674\n",
    "split_idx_w2 = 3594\n",
    "\n",
    "w1c0 = well_1.iloc[:split_idx_w1, :].copy()\n",
    "w1c2 = well_1.iloc[split_idx_w1:, :].reset_index(drop=True)\n",
    "\n",
    "w2c0 = data02.iloc[:split_idx_w2, :].copy()\n",
    "w2c2 = data02.iloc[split_idx_w2:, :].reset_index(drop=True)\n",
    "\n",
    "# Exibir informações sobre os subconjuntos criados\n",
    "print(f\"w1c0: {w1c0.shape}, w1c2: {w1c2.shape}\")\n",
    "print(f\"w2c0: {w2c0.shape}, w2c2: {w2c2.shape}\")\n",
    "\n",
    "\n",
    "\n",
    "\n",
    "\n",
    "\n",
    "\n",
    "\n",
    "\n",
    "\n",
    "\n",
    "\n",
    "\n",
    "\n",
    "\n",
    "\n",
    "\n",
    "# Função para calcular o padrão binário de uma série\n",
    "def bin_pattern(block, series):\n",
    "    n = int(block)\n",
    "    ts = pd.Series(series)\n",
    "    gap = n // 2  # Melhor arredondamento\n",
    "    pattern_list = np.zeros(len(ts) - (2 * gap))\n",
    "    \n",
    "    for i in range(gap, len(ts) - gap):\n",
    "        for j in [-2, -1, 1, 2]:\n",
    "            if ts.iloc[i + j] >= ts.iloc[i]:\n",
    "                if j > 0:\n",
    "                    pattern_list[i - gap] += 2 ** (j + 1)\n",
    "                else:\n",
    "                    pattern_list[i - gap] += 2 ** (j + 2)\n",
    "    \n",
    "    return pattern_list\n",
    "\n"
   ]
  }
 ],
 "metadata": {
  "language_info": {
   "name": "python"
  }
 },
 "nbformat": 4,
 "nbformat_minor": 2
}
